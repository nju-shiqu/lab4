{
 "cells": [
  {
   "cell_type": "code",
   "execution_count": 19,
   "id": "b6073bc7",
   "metadata": {},
   "outputs": [],
   "source": [
    "import numpy\n",
    "from pyspark.ml import Pipeline\n",
    "from pyspark.sql import SparkSession\n",
    "from pyspark.ml.feature import VectorAssembler, StringIndexer\n",
    "from pyspark.sql.functions import col\n",
    "from pyspark.ml.classification import LogisticRegression, RandomForestClassifier, GBTClassifier\n",
    "from pyspark.ml.classification import MultilayerPerceptronClassifier\n",
    "from pyspark.ml.evaluation import MulticlassClassificationEvaluator"
   ]
  },
  {
   "cell_type": "markdown",
   "id": "33350ae9",
   "metadata": {},
   "source": [
    " 读取数据"
   ]
  },
  {
   "cell_type": "code",
   "execution_count": 20,
   "id": "b3f19003",
   "metadata": {},
   "outputs": [],
   "source": [
    "# 初始化Spark会话\n",
    "spark = SparkSession.builder.appName(\"Classifier\").getOrCreate()\n",
    "\n",
    "# 读取CSV文件\n",
    "train_data = spark.read.csv(\"file:///home/gyy/train_data/part-00000.csv\", header=True, inferSchema=True)\n",
    "test_data = spark.read.csv(\"file:///home/gyy/test_data/part-00000.csv\", header=True, inferSchema=True)\n",
    "# 选择相关特征和目标列\n",
    "feature_columns = [\n",
    "    \"CNT_CHILDREN_value\", \"REGION_POPULATION_RELATIVE_value\", \"FLAG_EMP_PHONE_value\",\n",
    "    \"FLAG_WORK_PHONE_value\", \"FLAG_CONT_MOBILE_value\", \"FLAG_PHONE_value\", \"FLAG_EMAIL_value\",\n",
    "    \"REGION_RATING_CLIENT_value\", \"REGION_RATING_CLIENT_W_CITY_value\", \"REG_REGION_NOT_WORK_REGION_value\",\n",
    "    \"LIVE_REGION_NOT_WORK_REGION_value\", \"REG_CITY_NOT_LIVE_CITY_value\", \"REG_CITY_NOT_WORK_CITY_value\",\n",
    "    \"LIVE_CITY_NOT_WORK_CITY_value\", \"HOUR_APPR_PROCESS_START_value\", \"WEEKDAY_INDEX_value\"\n",
    "]"
   ]
  },
  {
   "cell_type": "code",
   "execution_count": 21,
   "id": "883b6f34",
   "metadata": {},
   "outputs": [],
   "source": [
    "# 特征向量\n",
    "assembler = VectorAssembler(inputCols=feature_columns, outputCol=\"features\")\n",
    "train_data = assembler.transform(train_data)\n",
    "test_data = assembler.transform(test_data)"
   ]
  },
  {
   "cell_type": "markdown",
   "id": "40dd2497",
   "metadata": {},
   "source": [
    "Random Forest"
   ]
  },
  {
   "cell_type": "code",
   "execution_count": 12,
   "id": "5ffb9a1e",
   "metadata": {},
   "outputs": [],
   "source": [
    "# 初始化模型\n",
    "rf = RandomForestClassifier(featuresCol=\"features\", labelCol=\"TARGET\")\n",
    "\n",
    "# 训练模型\n",
    "rf_model = rf.fit(train_data)\n",
    "\n",
    "# 测试集上进行预测\n",
    "rf_predictions = rf_model.transform(test_data)"
   ]
  },
  {
   "cell_type": "code",
   "execution_count": 14,
   "id": "8967c028",
   "metadata": {},
   "outputs": [
    {
     "name": "stdout",
     "output_type": "stream",
     "text": [
      "Random Forest Accuracy: 0.9228509648729142\n",
      "Random Forest F1 Score: 0.8858241423023199\n",
      "Random Forest Recall: 0.9228509648729142\n"
     ]
    }
   ],
   "source": [
    "# 初始化评估器\n",
    "evaluator = MulticlassClassificationEvaluator(labelCol=\"TARGET\", predictionCol=\"prediction\")\n",
    "\n",
    "# 评估模型的准确率\n",
    "rf_accuracy = evaluator.evaluate(rf_predictions, {evaluator.metricName: \"accuracy\"})\n",
    "print(f\"Random Forest Accuracy: {rf_accuracy}\")\n",
    "\n",
    "# 评估模型的F1分数\n",
    "rf_f1 = evaluator.evaluate(rf_predictions, {evaluator.metricName: \"f1\"})\n",
    "print(f\"Random Forest F1 Score: {rf_f1}\")\n",
    "\n",
    "# 评估模型的召回率\n",
    "rf_recall = evaluator.evaluate(rf_predictions, {evaluator.metricName: \"weightedRecall\"})\n",
    "print(f\"Random Forest Recall: {rf_recall}\")"
   ]
  },
  {
   "cell_type": "markdown",
   "id": "59e4d5f7",
   "metadata": {},
   "source": [
    "关闭Spark会话"
   ]
  },
  {
   "cell_type": "code",
   "execution_count": 18,
   "id": "d942f218",
   "metadata": {},
   "outputs": [],
   "source": [
    "# 关闭Spark会话\n",
    "spark.stop()"
   ]
  },
  {
   "cell_type": "code",
   "execution_count": null,
   "id": "05c64dbb",
   "metadata": {},
   "outputs": [],
   "source": []
  }
 ],
 "metadata": {
  "kernelspec": {
   "display_name": "Python 3",
   "language": "python",
   "name": "python3"
  }
 },
 "nbformat": 4,
 "nbformat_minor": 5
}
