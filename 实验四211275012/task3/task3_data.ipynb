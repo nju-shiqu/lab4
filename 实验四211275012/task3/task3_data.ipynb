{
 "cells": [
  {
   "cell_type": "code",
   "execution_count": 1,
   "id": "35c6d015",
   "metadata": {},
   "outputs": [],
   "source": [
    "from pyspark.sql import SparkSession\n",
    "\n",
    "spark = SparkSession.builder.appName(\"LoanDefaultPrediction\").getOrCreate()\n",
    "\n",
    "data = spark.read.csv('file:///home/gyy/application_data.csv', header=True, inferSchema=True)"
   ]
  },
  {
   "cell_type": "markdown",
   "id": "87089cbb",
   "metadata": {},
   "source": [
    "将 WEEKDAY_APPR_PROCESS_START 转换为数值"
   ]
  },
  {
   "cell_type": "code",
   "execution_count": 2,
   "id": "fecb8eed",
   "metadata": {},
   "outputs": [],
   "source": [
    "from pyspark.ml.feature import StringIndexer\n",
    "\n",
    "indexer = StringIndexer(inputCol=\"WEEKDAY_APPR_PROCESS_START\", outputCol=\"WEEKDAY_INDEX\")\n",
    "\n",
    "data = indexer.fit(data).transform(data)"
   ]
  },
  {
   "cell_type": "markdown",
   "id": "8156c756",
   "metadata": {},
   "source": [
    "SMOTE平衡数据"
   ]
  },
  {
   "cell_type": "code",
   "execution_count": null,
   "id": "df72f77d",
   "metadata": {},
   "outputs": [],
   "source": [
    "from imblearn.over_sampling import SMOTE\n",
    "import pandas as pd\n",
    "\n",
    "# 定义需要标准化的特征列\n",
    "featureCols = [\"CNT_CHILDREN\", \"REGION_POPULATION_RELATIVE\", \"FLAG_EMP_PHONE\",\n",
    "               \"FLAG_WORK_PHONE\", \"FLAG_CONT_MOBILE\", \"FLAG_PHONE\", \"FLAG_EMAIL\",\n",
    "               \"REGION_RATING_CLIENT\", \"REGION_RATING_CLIENT_W_CITY\", \"REG_REGION_NOT_WORK_REGION\",\n",
    "               \"LIVE_REGION_NOT_WORK_REGION\", \"REG_CITY_NOT_LIVE_CITY\", \"REG_CITY_NOT_WORK_CITY\",\n",
    "               \"LIVE_CITY_NOT_WORK_CITY\", \"HOUR_APPR_PROCESS_START\", \"WEEKDAY_INDEX\"]\n",
    "\n",
    "scaled_columns = [column for column in featureCols]+ [\"TARGET\"]\n",
    "data = data.select(scaled_columns)\n",
    "pdf = data.toPandas()\n",
    "\n",
    "# 分离特征和标签\n",
    "X = pdf[[c for c in featureCols]]  # 特征列\n",
    "y = pdf['TARGET']  # 目标列\n",
    "\n",
    "# 应用SMOTE\n",
    "smote = SMOTE(random_state=42)\n",
    "X_res, y_res = smote.fit_resample(X, y)\n",
    "\n",
    "# 将处理后的数据转换回Spark DataFrame\n",
    "res_df = pd.concat([pd.DataFrame(X_res, columns=[c for c in featureCols]), pd.DataFrame(y_res, columns=['TARGET'])], axis=1)\n",
    "data = spark.createDataFrame(res_df)"
   ]
  },
  {
   "cell_type": "markdown",
   "id": "395e4caa",
   "metadata": {},
   "source": [
    "使用 StandardScaler 对特征进行标准化"
   ]
  },
  {
   "cell_type": "code",
   "execution_count": 3,
   "id": "bd53633c",
   "metadata": {},
   "outputs": [],
   "source": [
    "from pyspark.ml.feature import VectorAssembler, StandardScaler\n",
    "from pyspark.ml import Pipeline\n",
    "\n",
    "# 定义需要标准化的特征列\n",
    "featureCols = [\"CNT_CHILDREN\", \"REGION_POPULATION_RELATIVE\", \"FLAG_EMP_PHONE\",\n",
    "               \"FLAG_WORK_PHONE\", \"FLAG_CONT_MOBILE\", \"FLAG_PHONE\", \"FLAG_EMAIL\",\n",
    "               \"REGION_RATING_CLIENT\", \"REGION_RATING_CLIENT_W_CITY\", \"REG_REGION_NOT_WORK_REGION\",\n",
    "               \"LIVE_REGION_NOT_WORK_REGION\", \"REG_CITY_NOT_LIVE_CITY\", \"REG_CITY_NOT_WORK_CITY\",\n",
    "               \"LIVE_CITY_NOT_WORK_CITY\", \"HOUR_APPR_PROCESS_START\", \"WEEKDAY_INDEX\"]\n",
    "\n",
    "# 首先，使用 VectorAssembler 将每个列转换为向量\n",
    "assemblers = [VectorAssembler(inputCols=[column], outputCol=column + \"_vec\") for column in featureCols]\n",
    "\n",
    "# 然后，为每个向量列创建一个 StandardScaler 实例\n",
    "scalers = [StandardScaler(inputCol=column + \"_vec\", outputCol=column + \"_scaled\", withStd=True, withMean=False) for column in featureCols]\n",
    "\n",
    "# 使用 Pipeline 来串联这些操作\n",
    "pipeline = Pipeline(stages=[*assemblers, *scalers])\n",
    "\n",
    "# 应用 Pipeline\n",
    "scalerModel = pipeline.fit(data)\n",
    "data = scalerModel.transform(data)\n",
    "\n",
    "# 现在，每个特征都有一个对应的标准化后的列\n"
   ]
  },
  {
   "cell_type": "code",
   "execution_count": 4,
   "id": "a144d504",
   "metadata": {
    "scrolled": true
   },
   "outputs": [
    {
     "name": "stdout",
     "output_type": "stream",
     "text": [
      "+--------------------+---------------------------------+---------------------+----------------------+-----------------------+--------------------+-----------------+---------------------------+----------------------------------+---------------------------------+----------------------------------+-----------------------------+-----------------------------+------------------------------+------------------------------+--------------------+------+\n",
      "| CNT_CHILDREN_scaled|REGION_POPULATION_RELATIVE_scaled|FLAG_EMP_PHONE_scaled|FLAG_WORK_PHONE_scaled|FLAG_CONT_MOBILE_scaled|   FLAG_PHONE_scaled|FLAG_EMAIL_scaled|REGION_RATING_CLIENT_scaled|REGION_RATING_CLIENT_W_CITY_scaled|REG_REGION_NOT_WORK_REGION_scaled|LIVE_REGION_NOT_WORK_REGION_scaled|REG_CITY_NOT_LIVE_CITY_scaled|REG_CITY_NOT_WORK_CITY_scaled|LIVE_CITY_NOT_WORK_CITY_scaled|HOUR_APPR_PROCESS_START_scaled|WEEKDAY_INDEX_scaled|TARGET|\n",
      "+--------------------+---------------------------------+---------------------+----------------------+-----------------------+--------------------+-----------------+---------------------------+----------------------------------+---------------------------------+----------------------------------+-----------------------------+-----------------------------+------------------------------+------------------------------+--------------------+------+\n",
      "|               [0.0]|             [1.3593101891658779]| [2.6022678315500496]|                 [0.0]|    [23.16751117728619]|[2.2245924173932234]|            [0.0]|       [3.9290113859551674]|              [3.9782229457106024]|                            [0.0]|                             [0.0]|                        [0.0]|                        [0.0]|                         [0.0]|           [3.062006624298967]|[0.5539660304217043]|     1|\n",
      "|               [0.0]|             [0.2560139024432942]| [2.6022678315500496]|                 [0.0]|    [23.16751117728619]|[2.2245924173932234]|            [0.0]|       [1.9645056929775837]|              [1.9891114728553012]|                            [0.0]|                             [0.0]|                        [0.0]|                        [0.0]|                         [0.0]|          [3.3682072867288637]|[1.1079320608434087]|     0|\n",
      "|               [0.0]|             [0.7253124736828939]| [2.6022678315500496]|   [2.502964585403861]|    [23.16751117728619]|[2.2245924173932234]|            [0.0]|       [3.9290113859551674]|              [3.9782229457106024]|                            [0.0]|                             [0.0]|                        [0.0]|                        [0.0]|                         [0.0]|          [2.7558059618690702]|[1.1079320608434087]|     0|\n",
      "|               [0.0]|             [0.5797727996873132]| [2.6022678315500496]|                 [0.0]|    [23.16751117728619]|               [0.0]|            [0.0]|       [3.9290113859551674]|              [3.9782229457106024]|                            [0.0]|                             [0.0]|                        [0.0]|                        [0.0]|                         [0.0]|           [5.205411261308243]|[0.5539660304217043]|     0|\n",
      "|               [0.0]|             [2.0723316819350868]| [2.6022678315500496]|                 [0.0]|    [23.16751117728619]|               [0.0]|            [0.0]|       [3.9290113859551674]|              [3.9782229457106024]|                            [0.0]|                             [0.0]|                        [0.0]|         [2.3745984309576325]|          [2.6054109173865867]|          [3.3682072867288637]|[1.6618980912651131]|     0|\n",
      "|               [0.0]|             [2.5877575815448703]| [2.6022678315500496]|   [2.502964585403861]|    [23.16751117728619]|[2.2245924173932234]|            [0.0]|       [3.9290113859551674]|              [3.9782229457106024]|                            [0.0]|                             [0.0]|                        [0.0]|                        [0.0]|                         [0.0]|           [4.899210598878347]|[0.5539660304217043]|     0|\n",
      "|[1.3848087337543429]|             [2.5877575815448703]| [2.6022678315500496]|                 [0.0]|    [23.16751117728619]|[2.2245924173932234]|            [0.0]|       [3.9290113859551674]|              [3.9782229457106024]|                            [0.0]|                             [0.0]|                        [0.0]|                        [0.0]|                         [0.0]|           [4.899210598878347]|[3.3237961825302262]|     0|\n",
      "|               [0.0]|             [0.22572024948544...| [2.6022678315500496]|   [2.502964585403861]|    [23.16751117728619]|               [0.0]|            [0.0]|        [5.893517078932751]|               [5.967334418565904]|                            [0.0]|                             [0.0]|                        [0.0]|         [2.3745984309576325]|          [2.6054109173865867]|           [4.899210598878347]|[1.1079320608434087]|     0|\n",
      "|               [0.0]|             [1.3472361079153754]|                [0.0]|                 [0.0]|    [23.16751117728619]|               [0.0]|            [0.0]|       [3.9290113859551674]|              [3.9782229457106024]|                            [0.0]|                             [0.0]|                        [0.0]|                        [0.0]|                         [0.0]|          [4.2868092740185535]|[0.5539660304217043]|     0|\n",
      "|               [0.0]|             [1.4235124894679525]| [2.6022678315500496]|                 [0.0]|    [23.16751117728619]|               [0.0]|            [0.0]|       [3.9290113859551674]|              [3.9782229457106024]|                            [0.0]|                             [0.0]|                        [0.0]|                        [0.0]|                         [0.0]|          [2.4496052994391735]|[1.6618980912651131]|     0|\n",
      "|[1.3848087337543429]|             [1.6484374401883954]| [2.6022678315500496]|                 [0.0]|    [23.16751117728619]|               [0.0]|            [0.0]|       [3.9290113859551674]|              [3.9782229457106024]|                            [0.0]|                             [0.0]|                        [0.0]|                        [0.0]|                         [0.0]|           [4.593009936448451]|[2.7698301521085216]|     0|\n",
      "|               [0.0]|              [1.100476591101209]|                [0.0]|                 [0.0]|    [23.16751117728619]|[2.2245924173932234]|            [0.0]|       [3.9290113859551674]|              [3.9782229457106024]|                            [0.0]|                             [0.0]|                        [0.0]|                        [0.0]|                         [0.0]|          [2.1434046370092767]|[2.2158641216868173]|     0|\n",
      "|               [0.0]|              [2.265083182616765]| [2.6022678315500496]|   [2.502964585403861]|    [23.16751117728619]|[2.2245924173932234]|            [0.0]|       [3.9290113859551674]|              [3.9782229457106024]|                            [0.0]|                             [0.0]|                        [0.0]|                        [0.0]|                         [0.0]|           [3.062006624298967]|[2.2158641216868173]|     0|\n",
      "|[1.3848087337543429]|             [1.2010457349302466]| [2.6022678315500496]|                 [0.0]|    [23.16751117728619]|               [0.0]|            [0.0]|       [3.9290113859551674]|              [3.9782229457106024]|                            [0.0]|                             [0.0]|                        [0.0]|                        [0.0]|                         [0.0]|          [3.9806086115886568]|[1.6618980912651131]|     0|\n",
      "|               [0.0]|             [0.7234326766019773]| [2.6022678315500496]|                 [0.0]|    [23.16751117728619]|               [0.0]|            [0.0]|       [3.9290113859551674]|              [1.9891114728553012]|                            [0.0]|                             [0.0]|                        [0.0]|                        [0.0]|                         [0.0]|          [2.7558059618690702]|[1.1079320608434087]|     0|\n",
      "|               [0.0]|              [1.497547574500975]| [2.6022678315500496]|                 [0.0]|    [23.16751117728619]|               [0.0]|            [0.0]|        [5.893517078932751]|               [5.967334418565904]|                            [0.0]|                             [0.0]|           [3.72517488917196]|         [2.3745984309576325]|                         [0.0]|            [1.83720397457938]|[2.7698301521085216]|     0|\n",
      "|               [0.0]|             [1.3472361079153754]| [2.6022678315500496]|                 [0.0]|    [23.16751117728619]|               [0.0]|            [0.0]|       [3.9290113859551674]|              [3.9782229457106024]|                            [0.0]|                             [0.0]|           [3.72517488917196]|         [2.3745984309576325]|                         [0.0]|            [3.67440794915876]|[1.6618980912651131]|     0|\n",
      "|[1.3848087337543429]|             [0.7928405688204361]| [2.6022678315500496]|                 [0.0]|    [23.16751117728619]|               [0.0]|            [0.0]|       [3.9290113859551674]|              [3.9782229457106024]|                            [0.0]|                             [0.0]|           [3.72517488917196]|         [2.3745984309576325]|                         [0.0]|           [3.062006624298967]|[1.1079320608434087]|     0|\n",
      "|               [0.0]|             [3.3417008107678785]| [2.6022678315500496]|                 [0.0]|    [23.16751117728619]|[2.2245924173932234]|            [0.0]|       [1.9645056929775837]|              [1.9891114728553012]|                            [0.0]|                             [0.0]|                        [0.0]|                        [0.0]|                         [0.0]|          [3.9806086115886568]|[2.2158641216868173]|     0|\n",
      "|[1.3848087337543429]|              [1.100476591101209]| [2.6022678315500496]|   [2.502964585403861]|    [23.16751117728619]|[2.2245924173932234]|            [0.0]|       [3.9290113859551674]|              [3.9782229457106024]|                            [0.0]|                             [0.0]|                        [0.0]|                        [0.0]|                         [0.0]|            [3.67440794915876]|[1.1079320608434087]|     0|\n",
      "+--------------------+---------------------------------+---------------------+----------------------+-----------------------+--------------------+-----------------+---------------------------+----------------------------------+---------------------------------+----------------------------------+-----------------------------+-----------------------------+------------------------------+------------------------------+--------------------+------+\n",
      "only showing top 20 rows\n",
      "\n"
     ]
    }
   ],
   "source": [
    "# 创建一个包含归一化列名的列表\n",
    "scaled_columns = [column + \"_scaled\" for column in featureCols]+ [\"TARGET\"]\n",
    "\n",
    "# 从原始 DataFrame 中选择这些标准化列\n",
    "scaled_data = data.select(scaled_columns)\n",
    "\n",
    "# 显示归一化后的数据\n",
    "scaled_data.show()"
   ]
  },
  {
   "cell_type": "markdown",
   "id": "e6225d6c",
   "metadata": {},
   "source": [
    "按照 8:2 的比例随机划分训练集和测试集"
   ]
  },
  {
   "cell_type": "code",
   "execution_count": 8,
   "id": "d7e8ea79",
   "metadata": {},
   "outputs": [],
   "source": [
    "# 划分数据集\n",
    "train, test = scaled_data.randomSplit([0.8, 0.2])"
   ]
  },
  {
   "cell_type": "markdown",
   "id": "41ba338b",
   "metadata": {},
   "source": [
    "存储数据"
   ]
  },
  {
   "cell_type": "code",
   "execution_count": 9,
   "id": "1ac42a7e",
   "metadata": {},
   "outputs": [],
   "source": [
    "\n",
    "\n",
    "# 选择要保存的归一化特征列和目标列\n",
    "columnsToSave = [column + \"_value\" for column in featureCols] + [\"TARGET\"]\n",
    "\n",
    "# 选择这些列并保存为 CSV\n",
    "train.select(columnsToSave).coalesce(1).write.csv('file:///home/gyy/train_data', header=True)\n",
    "test.select(columnsToSave).coalesce(1).write.csv('file:///home/gyy/test_data', header=True)\n",
    "\n",
    "spark.stop()"
   ]
  },
  {
   "cell_type": "code",
   "execution_count": null,
   "id": "e5bebff6",
   "metadata": {},
   "outputs": [],
   "source": []
  }
 ],
 "metadata": {
  "kernelspec": {
   "display_name": "Python 3",
   "language": "python",
   "name": "python3"
  },
  "language_info": {
   "codemirror_mode": {
    "name": "ipython",
    "version": 3
   },
   "file_extension": ".py",
   "mimetype": "text/x-python",
   "name": "python",
   "nbconvert_exporter": "python",
   "pygments_lexer": "ipython3",
   "version": "3.6.13"
  }
 },
 "nbformat": 4,
 "nbformat_minor": 5
}
